{
 "cells": [
  {
   "cell_type": "markdown",
   "id": "2479f7da",
   "metadata": {},
   "source": [
    "Because you will be importing data from a local file, you will need to use a function `chdir` from the `os` library\n",
    "\n",
    "Use `chdir` to set your working directory to `~/qbb2025/bootcamp/day2_morning`"
   ]
  },
  {
   "cell_type": "code",
   "execution_count": null,
   "id": "79a5914a",
   "metadata": {},
   "outputs": [],
   "source": []
  },
  {
   "cell_type": "markdown",
   "id": "1d3425f1",
   "metadata": {},
   "source": [
    "Let's revisit our actin CDS. This time we will be reading in the sequence from a FASTA file named \"actin.fa\""
   ]
  },
  {
   "cell_type": "code",
   "execution_count": null,
   "id": "efbab97c",
   "metadata": {},
   "outputs": [],
   "source": []
  },
  {
   "cell_type": "markdown",
   "id": "81f432c4",
   "metadata": {},
   "source": [
    "Because this is DNA sequence, let's convert it to the RNA alphabet"
   ]
  },
  {
   "cell_type": "code",
   "execution_count": null,
   "id": "6da85d68",
   "metadata": {},
   "outputs": [],
   "source": []
  },
  {
   "cell_type": "markdown",
   "id": "1f48da49",
   "metadata": {},
   "source": [
    "Next, let's import a codon table named `codontab` from the file `codons.py`"
   ]
  },
  {
   "cell_type": "code",
   "execution_count": null,
   "id": "28e9fea4",
   "metadata": {},
   "outputs": [],
   "source": []
  },
  {
   "cell_type": "markdown",
   "id": "9eb0f6ee",
   "metadata": {},
   "source": [
    "Now you can use a `for` loop to create a translation of the sequence. Don't forget to search for the start codon first!"
   ]
  },
  {
   "cell_type": "code",
   "execution_count": null,
   "id": "abb8e4c6",
   "metadata": {},
   "outputs": [],
   "source": []
  },
  {
   "cell_type": "markdown",
   "id": "f21ab6af",
   "metadata": {},
   "source": [
    "Can you count how many times each amino acid appears?"
   ]
  },
  {
   "cell_type": "code",
   "execution_count": null,
   "id": "cc2fcfab",
   "metadata": {},
   "outputs": [],
   "source": []
  },
  {
   "cell_type": "markdown",
   "id": "c44f0133",
   "metadata": {},
   "source": [
    "Finally, let's write these results to a file"
   ]
  },
  {
   "cell_type": "code",
   "execution_count": null,
   "id": "4ac3ebb2",
   "metadata": {},
   "outputs": [],
   "source": []
  }
 ],
 "metadata": {
  "kernelspec": {
   "display_name": "base",
   "language": "python",
   "name": "python3"
  },
  "language_info": {
   "codemirror_mode": {
    "name": "ipython",
    "version": 3
   },
   "file_extension": ".py",
   "mimetype": "text/x-python",
   "name": "python",
   "nbconvert_exporter": "python",
   "pygments_lexer": "ipython3",
   "version": "3.10.14"
  }
 },
 "nbformat": 4,
 "nbformat_minor": 5
}

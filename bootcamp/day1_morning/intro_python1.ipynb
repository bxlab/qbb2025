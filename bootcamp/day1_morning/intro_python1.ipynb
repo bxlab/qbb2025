{
 "cells": [
  {
   "cell_type": "markdown",
   "id": "ed7dbb46",
   "metadata": {},
   "source": [
    "Given the following DNA coding sequence for actin (CDS, so no introns), let's use your new Python skills to answer some basic biology questions"
   ]
  },
  {
   "cell_type": "code",
   "execution_count": null,
   "id": "e192374d",
   "metadata": {},
   "outputs": [],
   "source": [
    "actin = \"CAAAAATGTGTGACGACGAGGTTGCCGCTCTTGTTGTAGACAATGGATCCGGAATGTGCAAGGCCGGATTCGCCGGAGACGACGCTCCACGCGCCGTGTTCCCATCCATTGTCGGAAGACCACGTCATCAAGGAGTCATGGTCGGTATGGGACAAAAGGACTCGTACGTCGGAGATGAGGCCCAGTCCAAGAGAGGTATCCTTACCCTCAAGTACCCAATCGAGCACGGAATCGTCACAAATTGGGACGATATGGAGAAGATCTGGCACCACACCTTCTACAATGAGCTCCGTGTTGCCCCAGAAGAGCACCCAGTCCTCCTCACTGAGGCCCCACTCAATCCAAAGGCCAACAGAGAAAAGATGACTCAAATCATGTTCGAGACCTTCAACACCCCAGCCATGTACGTCGCGATTCAAGCCGTTCTCTCCCTCTACGCTTCCGGACGTACCACCGGAGTCGTCCTCGACTCTGGAGATGGTGTCACCCACACCGTCCCAATCTACGAAGGATATGCTCTCCCACACGCCATCCTTCGTCTCGACTTGGCCGGACGTGATCTTACTGATTACCTCATGAAGATCCTCACTGAGCGCGGTTACTCTTTCACCACCACCGCTGAGCGTGAGATCGTTCGTGACATCAAGGAGAAGCTCTGCTACGTCGCTCTCGACTTCGAGCAGGAAATGGCCACCGCTGCTTCCTCATCTTCACTCGAGAAGTCCTATGAGCTTCCTGACGGACAGGTTATCACCGTCGGAAATGAACGTTTCCGTTGCCCAGAGGCTCTCTTCCAGCCATCCTTCTTGGGTATGGAGTCCGCCGGAATCCACGAGACCTCGTACAACTCCATCATGAAGTGCGACATTGACATCCGTAAGGACTTGTACGCCAACACCGTTCTCTCCGGAGGAACCACCATGTACCCAGGAATTGCTGATCGCATGCAAAAGGAGATCACCGCTCTTGCCCCATCCACCATGAAGATCAAGATCATCGCTCCACCAGAGCGCAAATACTCCGTCTGGATCGGAGGATCCATCCTCGCTTCCCTCTCCACCTTCCAACAGATGTGGATCTCCAAGCAAGAGTACGACGAGTCCGGCCCATCGATCGTCCACCGCAAGTGCTTCTAAGCGCCTCGTCCCCACCATTTTTCTCTATTATTTTTTCCTTTTTTACCATCTTTTTTCCCTTTTTTGTCACCAAATCGTTATGGTCCCTTTTGGGACAATAACAACTTCCGTATCATCATTTTAAGATCATGAGACCATCCAAAAAAAGAC\""
   ]
  },
  {
   "cell_type": "markdown",
   "id": "82e1c0b9",
   "metadata": {},
   "source": [
    "How long is the total sequence?\n",
    "\n",
    "Can you figure out what the GC content is?"
   ]
  },
  {
   "cell_type": "code",
   "execution_count": null,
   "id": "8ad4f280",
   "metadata": {},
   "outputs": [],
   "source": []
  },
  {
   "cell_type": "markdown",
   "id": "bf2cdaf7",
   "metadata": {},
   "source": [
    "Where is the beginning of the coding sequence? (The start codon should be ATG, since this is DNA)"
   ]
  },
  {
   "cell_type": "code",
   "execution_count": null,
   "id": "81d1ccb6",
   "metadata": {},
   "outputs": [],
   "source": []
  },
  {
   "cell_type": "markdown",
   "id": "816214c8",
   "metadata": {},
   "source": [
    "Given that the stop codon is either TAA, TAG, or TGA, can you figure out how many amino acids are encoded by this sequence?\n",
    "\n",
    "How many tryptophans are there in the resulting protein (its codon if TGG)?\n",
    "\n",
    "Can you make a list of all of the codons in order?"
   ]
  },
  {
   "cell_type": "code",
   "execution_count": null,
   "id": "328b015b",
   "metadata": {},
   "outputs": [],
   "source": []
  }
 ],
 "metadata": {
  "kernelspec": {
   "display_name": "base",
   "language": "python",
   "name": "python3"
  },
  "language_info": {
   "codemirror_mode": {
    "name": "ipython",
    "version": 3
   },
   "file_extension": ".py",
   "mimetype": "text/x-python",
   "name": "python",
   "nbconvert_exporter": "python",
   "pygments_lexer": "ipython3",
   "version": "3.10.14"
  }
 },
 "nbformat": 4,
 "nbformat_minor": 5
}
